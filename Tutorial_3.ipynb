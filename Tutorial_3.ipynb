{
  "nbformat": 4,
  "nbformat_minor": 0,
  "metadata": {
    "colab": {
      "name": "Tutorial_3.ipynb",
      "provenance": [],
      "collapsed_sections": []
    },
    "kernelspec": {
      "name": "python3",
      "display_name": "Python 3"
    }
  },
  "cells": [
    {
      "cell_type": "markdown",
      "metadata": {
        "id": "cGV0YO9F1OjU",
        "colab_type": "text"
      },
      "source": [
        "<h1><center><u><font color=\"red\">Tutorial 3 </font></u> </center></h1> \n",
        "\n",
        "<h1><center><font color=\"blue\"> Match Filter SNR </font></center></h1>\n",
        "\n",
        "\n",
        "\n",
        "The Signal to Noise Ratio (SNR) for a binary coalescing at timetcis calculated\n",
        "\n",
        "<Br>\n",
        "\n",
        "\\begin{equation}\n",
        "SNR \\; (S, h)= 4 \\;Re \\; \\int_{f_{min}}^{f_{max}} \\frac{ \\tilde s(f) \\; \\tilde h(f)^* }{ \\tilde S_n(f)}  df\n",
        "\\end{equation}\n",
        "\n",
        "<Br>\n",
        "\n",
        "Time domain Signal\n",
        "\n",
        "\\begin{equation}\n",
        "s(t) =  h(t) + n(t)\n",
        "\\end{equation}\n",
        "\n",
        "<Br>\n",
        "\n",
        "Frequency domain Signal\n",
        "\n",
        "\\begin{equation}\n",
        "\\tilde s(f) = \\tilde h(f) + \\tilde n(f)\n",
        "\\end{equation}\n",
        "\n",
        "\n",
        "<u> <font color=\"magenta\">Notations </font></u>\n",
        "\n",
        "\n",
        "| Defination | Math Symbol | Python Variable |\n",
        "| --- | --- | --- |\n",
        "| Time domain Template | $h(t)$ | hoft |\n",
        "| Time domain Noise | $n(t)$ | noft |\n",
        "| Time domain Signal  | $s(t)$ | soft |\n",
        "| Frequency domain Template | $ \\tilde h(f)$  | hf |\n",
        "| Frequency domain Noise  | $ \\tilde n(f) $ | nf |\n",
        "| Frequency domain Signal   | $ \\tilde s(f) $ | sf |\n",
        "| Noise power spectral density | $ \\tilde S_n(f) $ | psdn |\n",
        "| Lower frequency  | $ f_{min} $ | fmin |\n",
        "| Higher frequency | $ f_{max} $ | fmax |\n",
        "| Sampling frequency | $ fs $ | fs |\n",
        "| Frequency step     | $ df $ | deltaF|\n",
        "| Signal normalized constant | $ h_o $ | hnot |"
      ]
    },
    {
      "cell_type": "code",
      "metadata": {
        "id": "_4f_4Yzp1RGb",
        "colab_type": "code",
        "colab": {}
      },
      "source": [
        "import numpy as np\n",
        "import matplotlib.pyplot as plt"
      ],
      "execution_count": 0,
      "outputs": []
    },
    {
      "cell_type": "code",
      "metadata": {
        "id": "FdcczCRj36Jv",
        "colab_type": "code",
        "colab": {}
      },
      "source": [
        "# We'll first download data for this tutorial\n",
        "!curl -O -J -L 'https://github.com/Sudhagar7/GW_tutorials/blob/master/nchirp.dat'\n",
        "!curl -O -J -L 'https://github.com/Sudhagar7/GW_tutorials/blob/master/noise_td.dat'\n",
        "!curl -O -J -L 'https://github.com/Sudhagar7/GW_tutorials/blob/master/psd.dat'"
      ],
      "execution_count": 0,
      "outputs": []
    },
    {
      "cell_type": "code",
      "metadata": {
        "id": "yyZiWaPX_qOV",
        "colab_type": "code",
        "colab": {}
      },
      "source": [
        "# Load data from the file\n",
        "\n",
        "# Template: Time domain Newtownian Chirp Signal\n",
        "ghoft = np.genfromtxt('nchirp.dat',delimiter=',')\n",
        "# Time axis from the Time domain Newtownian Chirp Signal\n",
        "time_axis = ghoft[:, 0]\n",
        "# Template i.e Time domain Newtownian Chirp Signal\n",
        "hoft = ghoft[:, 1]\n",
        "\n",
        "# Noise: Gaussian Noise\n",
        "gnoise = np.genfromtxt('noise_td.dat',delimiter=',')\n",
        "# Noise Column from data\n",
        "noft = gnoise[:, 1]\n",
        "\n",
        "# Noise Power Spectral Density\n",
        "psdn = np.genfromtxt('psd.dat')\n",
        "\n",
        "plt.figure()\n",
        "plt.plot(time_axis, (hoft+noft))\n",
        "plt.title( \"Signal\")\n",
        "plt.xlabel(\" Time (s)\")\n",
        "plt.show()"
      ],
      "execution_count": 0,
      "outputs": []
    },
    {
      "cell_type": "code",
      "metadata": {
        "id": "EtJvy5j2KCC1",
        "colab_type": "code",
        "colab": {}
      },
      "source": [
        "# Time steps from data\n",
        "deltaT = abs(time_axis[0]-[1])\n",
        "\n",
        "# Duration of the time domain signal\n",
        "T = int(np.ceil(time_axis[-1]-time_axis[0]))\n",
        "\n",
        "# Sampling Frequency\n",
        "sampFre = int(len(time_axis)/T)\n",
        "\n",
        "# Minimum Frequency \n",
        "flower = 30 # Hz\n",
        "\n",
        "# Maximum Frequency\n",
        "fhigher = int(sampFre/2)"
      ],
      "execution_count": 0,
      "outputs": []
    },
    {
      "cell_type": "code",
      "metadata": {
        "id": "Xv6_LZLwNXK0",
        "colab_type": "code",
        "colab": {}
      },
      "source": [
        "def gIndices(fmin, fmax, deltaF):\n",
        "    \"\"\"\n",
        "    Get Index of Minimum Frequency and Maximum Frequency\n",
        "    \n",
        "    Parameters\n",
        "    ----------\n",
        "    fmin: integer\n",
        "          Minimum Frequency\n",
        "    \n",
        "    fmax: integer\n",
        "          Maximum Frequency\n",
        "\n",
        "    Returns\n",
        "    -------\n",
        "    minInd: integer\n",
        "            Minimum Frequency Index\n",
        "\n",
        "    maxInd: integer\n",
        "            Maximum Frequency Index\n",
        "    \"\"\"\n",
        "    minInd, maxInd = int(1.0*fmin/deltaF), int(1.0*fmax/deltaF)\n",
        "\n",
        "    return minInd, maxInd\n"
      ],
      "execution_count": 0,
      "outputs": []
    },
    {
      "cell_type": "code",
      "metadata": {
        "id": "OmPlLF0rSGkK",
        "colab_type": "code",
        "colab": {}
      },
      "source": [
        "def sigma(template, psd, fmin, fmax, deltaF, fs):\n",
        "    \"\"\"\n",
        "    Normalization factor of the template\n",
        "\n",
        "    Parameters\n",
        "    ----------\n",
        "    template: array-like\n",
        "              Time domain of template\n",
        "    \n",
        "    psd: array-like\n",
        "         Noise Power Spectral Density\n",
        "\n",
        "    fmin: float\n",
        "          Minimum Frequency\n",
        "\n",
        "    fmax: float\n",
        "          Maximum Frequency\n",
        "\n",
        "    deltaF: float\n",
        "            Frequency Step\n",
        "    \n",
        "    fs: integer\n",
        "        Sampling Frequency\n",
        "\n",
        "    Return:\n",
        "    hnot: float\n",
        "          Normalization factor of the template\n",
        "    \"\"\"\n",
        "    # Get Min and Max index\n",
        "    kmin, kmax = gIndices(fmin, fmax, deltaF)\n",
        "\n",
        "    # Convert Time domain template to frequency domain template\n",
        "    ht   = np.fft.rfft(template)\n",
        "\n",
        "    # Norm\n",
        "    hnot =  np.sqrt(4.0*deltaF*(np.abs(ht[kmin:kmax])**2./psd[kmin:kmax]).sum())/fs\n",
        "    return hnot"
      ],
      "execution_count": 0,
      "outputs": []
    },
    {
      "cell_type": "code",
      "metadata": {
        "id": "eQZdRYEAOBA7",
        "colab_type": "code",
        "colab": {}
      },
      "source": [
        "def mfsnr(template, data, psd, fmin, fmax, deltaF, fs):\n",
        "    \"\"\"\n",
        "    Match Filter SNR\n",
        "\n",
        "    Parameters\n",
        "    ----------\n",
        "    template: array-like\n",
        "              Frequency domain of template (hf)\n",
        "    \n",
        "    data: array-like\n",
        "          Frequency domain of template (sf)\n",
        "\n",
        "    psd: array-like\n",
        "         Noise Power Spectral Density \n",
        "\n",
        "    fmin: float\n",
        "          Minimum Frequency\n",
        "\n",
        "    fmax: float\n",
        "          Maximum Frequency\n",
        "\n",
        "    deltaF: float\n",
        "            Frequency Step\n",
        "    \n",
        "    fs: integer\n",
        "        Sampling Frequency\n",
        "    \"\"\"\n",
        "    # Get Min and Max index\n",
        "    kmin, kmax = gIndices(fmin, fmax, deltaF)\n",
        "    \n",
        "    # Applying the matched filter\n",
        "    matched_filter = 2*np.fft.ifft(data[kmin:kmax] * template[kmin:kmax].conjugate()/psd[kmin:kmax])\n",
        "    SNR_matched = np.sqrt(np.abs(matched_filter)/fs)\n",
        "\n",
        "    # Optimal filter \n",
        "    optimal_filter = 2*np.fft.ifft(template[kmin:kmax] * template[kmin:kmax].conjugate()/psd[kmin:kmax])\n",
        "    SNR_template = np.sqrt(np.abs(optimal_filter)/fs)\n",
        "\n",
        "    print (\"SNR_matched   :\", np.max(SNR_matched))\n",
        "    print (\"SNR_template  :\", np.max(SNR_template))\n",
        "\n",
        "    return"
      ],
      "execution_count": 0,
      "outputs": []
    },
    {
      "cell_type": "markdown",
      "metadata": {
        "id": "Q3VRuKD2a6Hm",
        "colab_type": "text"
      },
      "source": [
        "<u> <font color=\"magenta\"> Optimal Match filter </font> </u>\n",
        "\n",
        "$\\tilde S(f) = \\tilde h(f)$\n",
        "<Br>\n",
        "\\begin{equation}\n",
        "SNR \\; (h, h)= 4 \\;Re \\; \\int_{f_{min}}^{f_{max}} \\frac{ \\tilde h(f) \\; \\tilde h(f)^* }{ \\tilde S_n(f)}  df \\\\\n",
        "\\end{equation}\n",
        "<Br>"
      ]
    },
    {
      "cell_type": "code",
      "metadata": {
        "id": "JBPfu5GENQgU",
        "colab_type": "code",
        "colab": {}
      },
      "source": [
        "# Normalize the the template\n",
        "hnot  = sigma(template=hoft, psd=psdn, fmin=flower, fmax=fhigher, deltaF=1/T,fs=sampFre)\n",
        "\n",
        "# Normalized template\n",
        "hoft = hoft/hnot\n",
        "\n",
        "# Signal S(t) = h(t)\n",
        "soft = hoft\n",
        "\n",
        "# Convert Time domain signal to frequency domain signal\n",
        "hf = np.fft.rfft(hoft)\n",
        "\n",
        "# Convert Time domain signal to frequency domain signal\n",
        "sf = np.fft.rfft(soft)\n",
        "\n",
        "# Match Filter\n",
        "mfsnr(template=hf, data=sf, psd=psdn, deltaF=1/T, fmin=flower, fmax=fhigher, fs=sampFre)"
      ],
      "execution_count": 0,
      "outputs": []
    },
    {
      "cell_type": "markdown",
      "metadata": {
        "id": "IluK_sg4bbWI",
        "colab_type": "text"
      },
      "source": [
        "<u> <font color=\"green\"> Check points of your results </font> </u>\n",
        "\n",
        "SNR_matched   : 1.0074056800328939\n",
        "\n",
        "SNR_template  : 1.0074056800328939"
      ]
    },
    {
      "cell_type": "markdown",
      "metadata": {
        "id": "8wMSbvbAdS-8",
        "colab_type": "text"
      },
      "source": [
        "<u> <font color=\"magenta\"> Match filter</font> </u>\n",
        "<Br>\n",
        "\\begin{equation}\n",
        "SNR \\; (S, h)= 4 \\;Re \\; \\int_{f_{min}}^{f_{max}} \\frac{ \\tilde S(f) \\; \\tilde h(f)^* }{ \\tilde S_n(f)}  df\n",
        "\\end{equation}\n",
        "<Br>"
      ]
    },
    {
      "cell_type": "code",
      "metadata": {
        "id": "IIIIzGLnc6ku",
        "colab_type": "code",
        "colab": {}
      },
      "source": [
        "# Signal S(t) = h(t) + n(t)\n",
        "soft = hoft + noft\n",
        "\n",
        "# Convert Time domain signal to frequency domain signal\n",
        "hf = np.fft.rfft(hoft)\n",
        "\n",
        "# Convert Time domain signal to frequency domain signal\n",
        "sf = np.fft.rfft(soft)\n",
        "\n",
        "# Match Filter\n",
        "mfsnr(template=hf, data=sf, psd=psdn, deltaF=1/T, fmin=flower, fmax=fhigher, fs=sampFre)"
      ],
      "execution_count": 0,
      "outputs": []
    },
    {
      "cell_type": "markdown",
      "metadata": {
        "id": "HqWkbrx0JgmU",
        "colab_type": "text"
      },
      "source": [
        "<h3><center><u> <font color=\"brown\"> Coding help in Python 3 </font> </u></center><h3>\n",
        "\n",
        "* Data Types Examples\n",
        "  * integers:  -10, 10\n",
        "  * float:  -10. , 10.0, 23.5\n",
        "\n",
        "* Division operators\n",
        "  * '/' \n",
        "         Ex: 6/4 = 1.5\n",
        "  * '//' \n",
        "         Ex: 6//4 = 1  (Quotient)\n",
        "  * '%'  \n",
        "         Ex: 6%4 = 2 (Reminder)\n",
        "\n",
        "* Multiplication operator\n",
        "  * '*'  \n",
        "         Ex: 6  * 4 = 24  (Integer)\n",
        "         Ex: 6. * 4 = 24.0 (Float)\n",
        "* Power operator\n",
        "  * '**'\n",
        "         Ex: 6 ** 4 = 1296 (Integer)\n",
        "         Ex: 6 ** 4. = 1296.0 (Float)\n",
        "\n",
        "* np.pi\n",
        "\n",
        "\n",
        "* Array index examples \n",
        "\n",
        "  In python array index starts from zero (0 1 2 3 ,...)\n",
        "\n",
        "  \\>\\>\\> x  = [10 20 30 40 50 60 70 80 90 100]\n",
        "\n",
        "           [0 1  2 3 4 5 6 7 8 9]\n",
        "\n",
        "  \\>\\>\\> y  = x[3:6]\n",
        "\n",
        "  \\>\\>\\> y = [40 50 60]\n",
        "\n",
        " \n",
        " * Fast Fourier Transform (FFT)\n",
        "  \n",
        "  np.fft.fft()\n",
        "\n",
        "* Inverse Fast Fourier Tansform (IFTT)\n",
        "  \n",
        "  np.fft.ifft()\n",
        "\n",
        "* Shift FFT\n",
        "  \n",
        "  np.fft.shift()\n",
        "\n",
        "* Fast Fourier Transform (FFT) - Poistive\n",
        " \n",
        "  np.fft.rfft()\n",
        "  \n",
        " "
      ]
    }
  ]
}
